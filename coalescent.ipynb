{
 "cells": [
  {
   "cell_type": "code",
   "execution_count": 1,
   "metadata": {},
   "outputs": [],
   "source": [
    "import numpy as np\n",
    "np.random.seed(0)"
   ]
  },
  {
   "cell_type": "code",
   "execution_count": 2,
   "metadata": {},
   "outputs": [],
   "source": [
    "class Node:\n",
    "    def __init__(self, left=None, right=None, age=0.0):\n",
    "        self.num_mutations = 0\n",
    "        self.parent = None\n",
    "        self.left = left\n",
    "        self.right = right\n",
    "        self.age = age\n",
    "        if left is not None:\n",
    "            left.parent = self\n",
    "        if right is not None:\n",
    "            right.parent = self\n",
    "    \n",
    "    def print(self, indent=0):\n",
    "        print('-' * indent + str(self.age) + ' (' + str(self.num_mutations) + ')')\n",
    "        if self.left is not None:\n",
    "            self.left.print(indent + 2)\n",
    "        if self.right is not None:\n",
    "            self.right.print(indent + 2)\n",
    "    \n",
    "    def drop_mutations(self, mutation_rate):\n",
    "        if self.parent is not None:\n",
    "            branch_length = self.parent.age - self.age\n",
    "            poisson_mean = mutation_rate * branch_length\n",
    "            self.num_mutations = np.random.poisson(poisson_mean)\n",
    "        else:\n",
    "            self.num_mutations = 0\n",
    "        if self.left is not None:\n",
    "            self.left.drop_mutations(mutation_rate)\n",
    "        if self.right is not None:\n",
    "            self.right.drop_mutations(mutation_rate)"
   ]
  },
  {
   "cell_type": "code",
   "execution_count": 3,
   "metadata": {},
   "outputs": [],
   "source": [
    "def coalesce(population_size, sample_size):\n",
    "    N, n = population_size, sample_size\n",
    "\n",
    "    age = 0.0\n",
    "    twoN = 2 * N\n",
    "\n",
    "    nodes = [Node() for _ in range(n)]\n",
    "\n",
    "    while n > 1:\n",
    "        tmean = twoN / (n * (n - 1))\n",
    "        age += np.random.exponential(tmean)\n",
    "\n",
    "        i, j = np.random.choice(n, 2, replace=False)\n",
    "        if i > j:\n",
    "            i, j = j, i\n",
    "\n",
    "        nodes[i] = Node(left=nodes[i], right=nodes[j], age=age)\n",
    "        nodes.pop(j)\n",
    "        n -= 1\n",
    "\n",
    "    return nodes[0]"
   ]
  },
  {
   "cell_type": "code",
   "execution_count": 4,
   "metadata": {},
   "outputs": [
    {
     "name": "stdout",
     "output_type": "stream",
     "text": [
      "29264.80867294019 (0)\n",
      "--13575.847273248506 (15)\n",
      "----0.0 (18)\n",
      "----2526.139999735792 (13)\n",
      "------0.0 (3)\n",
      "------0.0 (5)\n",
      "--795.87450816311 (33)\n",
      "----0.0 (1)\n",
      "----0.0 (1)\n"
     ]
    }
   ],
   "source": [
    "root = coalesce(10000, 5)\n",
    "root.drop_mutations(1e-3)\n",
    "root.print()"
   ]
  }
 ],
 "metadata": {
  "kernelspec": {
   "display_name": ".venv",
   "language": "python",
   "name": "python3"
  },
  "language_info": {
   "codemirror_mode": {
    "name": "ipython",
    "version": 3
   },
   "file_extension": ".py",
   "mimetype": "text/x-python",
   "name": "python",
   "nbconvert_exporter": "python",
   "pygments_lexer": "ipython3",
   "version": "3.13.0"
  }
 },
 "nbformat": 4,
 "nbformat_minor": 2
}
