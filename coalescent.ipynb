{
 "cells": [
  {
   "cell_type": "code",
   "execution_count": 22,
   "metadata": {},
   "outputs": [],
   "source": [
    "import numpy as np"
   ]
  },
  {
   "cell_type": "code",
   "execution_count": 23,
   "metadata": {},
   "outputs": [],
   "source": [
    "class Node:\n",
    "    def __init__(self, left=None, right=None, age=0.0):\n",
    "        self.parent = None\n",
    "        self.left = left\n",
    "        self.right = right\n",
    "        self.age = age\n",
    "        if left is not None:\n",
    "            left.parent = self\n",
    "        if right is not None:\n",
    "            right.parent = self\n",
    "    \n",
    "    def print(self, indent=0):\n",
    "        print('-' * indent + str(self.age))\n",
    "        if self.left is not None:\n",
    "            self.left.print(indent + 2)\n",
    "        if self.right is not None:\n",
    "            self.right.print(indent + 2)"
   ]
  },
  {
   "cell_type": "code",
   "execution_count": 24,
   "metadata": {},
   "outputs": [],
   "source": [
    "def coalesce(population_size, sample_size):\n",
    "    N, n = population_size, sample_size\n",
    "\n",
    "    age = 0.0\n",
    "    twoN = 2 * N\n",
    "\n",
    "    nodes = [Node() for _ in range(n)]\n",
    "\n",
    "    while n > 1:\n",
    "        tmean = twoN / (n * (n - 1))\n",
    "        age += np.random.exponential(tmean)\n",
    "\n",
    "        i, j = np.random.choice(n, 2, replace=False)\n",
    "        if i > j:\n",
    "            i, j = j, i\n",
    "\n",
    "        nodes[i] = Node(left=nodes[i], right=nodes[j], age=age)\n",
    "        nodes.pop(j)\n",
    "        n -= 1\n",
    "\n",
    "    return nodes[0]"
   ]
  },
  {
   "cell_type": "code",
   "execution_count": 26,
   "metadata": {},
   "outputs": [
    {
     "name": "stdout",
     "output_type": "stream",
     "text": [
      "7309.711901099232\n",
      "--2663.2920470661475\n",
      "----0.0\n",
      "----1.9465932914743298\n",
      "------0.0\n",
      "------0.0\n",
      "--1111.583002920046\n",
      "----0.0\n",
      "----0.0\n"
     ]
    }
   ],
   "source": [
    "root = coalesce(10000, 5)\n",
    "root.print()"
   ]
  }
 ],
 "metadata": {
  "kernelspec": {
   "display_name": ".venv",
   "language": "python",
   "name": "python3"
  },
  "language_info": {
   "codemirror_mode": {
    "name": "ipython",
    "version": 3
   },
   "file_extension": ".py",
   "mimetype": "text/x-python",
   "name": "python",
   "nbconvert_exporter": "python",
   "pygments_lexer": "ipython3",
   "version": "3.13.0"
  }
 },
 "nbformat": 4,
 "nbformat_minor": 2
}
