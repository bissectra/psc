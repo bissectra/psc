{
 "cells": [
  {
   "cell_type": "code",
   "execution_count": 1,
   "metadata": {},
   "outputs": [],
   "source": [
    "import numpy as np\n",
    "import networkx as nx\n",
    "from ipysigma import Sigma\n",
    "np.random.seed(0)"
   ]
  },
  {
   "cell_type": "code",
   "execution_count": 2,
   "metadata": {},
   "outputs": [],
   "source": [
    "class Node:\n",
    "    node_count = 0\n",
    "    all_nodes = []\n",
    "\n",
    "    def __init__(self, mut_prob=0.0):\n",
    "        self.id = Node.node_count\n",
    "        Node.node_count += 1\n",
    "        Node.all_nodes.append(self)\n",
    "\n",
    "        self.parent = None\n",
    "        self.children = []\n",
    "\n",
    "        self.mutated = np.random.rand() < mut_prob\n",
    "    \n",
    "    def adopt(self, child):\n",
    "        assert child not in self.children\n",
    "        assert child.parent is None\n",
    "        self.children.append(child)\n",
    "        child.parent = self\n",
    "\n",
    "class WrightFisher:\n",
    "    def __init__(self, origin, n_pop, mut_prob=0.0):\n",
    "        self.origin = origin\n",
    "        self.population = [origin]\n",
    "        self.n_pop = n_pop\n",
    "        self.mut_prob = mut_prob\n",
    "        self.generation = 0\n",
    "    \n",
    "    def next_generation(self):\n",
    "        new_population = [Node(mut_prob=self.mut_prob) for _ in range(self.n_pop)]\n",
    "        parents = np.random.choice(self.population, size=self.n_pop, replace=True)\n",
    "        for parent, child in zip(parents, new_population):\n",
    "            parent.adopt(child)\n",
    "        self.population = new_population\n",
    "        self.generation += 1\n",
    "\n",
    "    def evolve(self, n_gen):\n",
    "        for _ in range(n_gen):\n",
    "            self.next_generation()"
   ]
  },
  {
   "cell_type": "code",
   "execution_count": 3,
   "metadata": {},
   "outputs": [],
   "source": [
    "def to_networkx(nodes, root):\n",
    "    # returns a networkx graph of the subtree rooted at root that contains all the nodes\n",
    "    G = nx.DiGraph()\n",
    "    for node in nodes:\n",
    "        u = node\n",
    "        while u.parent != root:\n",
    "            v = u.parent\n",
    "            G.add_edge(v.id, u.id)\n",
    "            u = v\n",
    "        G.add_edge(root.id, u.id)\n",
    "    return G\n",
    "\n",
    "def simplify(graph, root):\n",
    "    # returns a simplified version of the subtree rooted at root\n",
    "    \n",
    "    ans = nx.DiGraph()\n",
    "\n",
    "    for v in list(graph.successors(root)):\n",
    "        # find first node u that has number of children != 1\n",
    "        u = v\n",
    "        weight = 1\n",
    "        mut_count = 1 if Node.all_nodes[u].mutated else 0\n",
    "        while graph.out_degree(u) == 1:\n",
    "            u = list(graph.successors(u))[0]\n",
    "            mut_count += 1 if Node.all_nodes[u].mutated else 0\n",
    "            weight += 1\n",
    "        \n",
    "        # add edge from root to u\n",
    "        ans.add_edge(root, u, weight=weight)\n",
    "\n",
    "        # add mutation count to u\n",
    "        ans.nodes[u]['n_mutations'] = str(mut_count)\n",
    "        if mut_count > 0:\n",
    "            ans.nodes[u]['color'] = '#ff0000'\n",
    "\n",
    "        # recursively simplify subtree rooted at u, and add it to ans\n",
    "        ans = nx.compose(ans, simplify(graph, u))\n",
    "    return ans"
   ]
  },
  {
   "cell_type": "code",
   "execution_count": 4,
   "metadata": {},
   "outputs": [],
   "source": [
    "n = 100\n",
    "n_gen = n\n",
    "n_pop = n\n",
    "n_sample = n_pop\n",
    "mut_prob = 0.5\n",
    "\n",
    "origin = Node()\n",
    "wf = WrightFisher(origin, n_pop, mut_prob)\n",
    "wf.evolve(n_gen)\n",
    "\n",
    "sample = np.random.choice(wf.population, size=n_sample, replace=False)"
   ]
  },
  {
   "cell_type": "code",
   "execution_count": 5,
   "metadata": {},
   "outputs": [
    {
     "data": {
      "application/vnd.jupyter.widget-view+json": {
       "model_id": "7a4b5f501d394c7c9cb24b6a3e0c8ac6",
       "version_major": 2,
       "version_minor": 0
      },
      "text/plain": [
       "Sigma(nx.DiGraph with 844 nodes and 843 edges)"
      ]
     },
     "execution_count": 5,
     "metadata": {},
     "output_type": "execute_result"
    }
   ],
   "source": [
    "G = to_networkx(sample, origin)\n",
    "\n",
    "# color nodes based on mutation status\n",
    "for node in G.nodes:\n",
    "    if Node.all_nodes[node].mutated:\n",
    "        G.nodes[node]['color'] = \"red\"\n",
    "\n",
    "sample_ids = [node.id for node in sample]\n",
    "\n",
    "# make sample nodes green\n",
    "for node in G.nodes:\n",
    "    if node in sample_ids:\n",
    "        G.nodes[node]['color'] = \"green\"\n",
    "\n",
    "# make origin node black\n",
    "G.nodes[origin.id]['color'] = \"black\"\n",
    "\n",
    "Sigma(G)"
   ]
  },
  {
   "cell_type": "code",
   "execution_count": null,
   "metadata": {},
   "outputs": [],
   "source": []
  },
  {
   "cell_type": "code",
   "execution_count": 6,
   "metadata": {},
   "outputs": [
    {
     "data": {
      "application/vnd.jupyter.widget-view+json": {
       "model_id": "f6c20a53ebcb4e8092d61fcd4c34ae2b",
       "version_major": 2,
       "version_minor": 0
      },
      "text/plain": [
       "Sigma(nx.DiGraph with 182 nodes and 181 edges)"
      ]
     },
     "execution_count": 6,
     "metadata": {},
     "output_type": "execute_result"
    }
   ],
   "source": [
    "simplified_G = simplify(G, origin.id)\n",
    "\n",
    "# color origin node blue\n",
    "simplified_G.nodes[origin.id][\"color\"] = \"#0000ff\"\n",
    "\n",
    "Sigma(simplified_G, hide_info_panel=True, edge_label=\"weight\", node_label=\"n_mutations\")"
   ]
  }
 ],
 "metadata": {
  "kernelspec": {
   "display_name": ".venv",
   "language": "python",
   "name": "python3"
  },
  "language_info": {
   "codemirror_mode": {
    "name": "ipython",
    "version": 3
   },
   "file_extension": ".py",
   "mimetype": "text/x-python",
   "name": "python",
   "nbconvert_exporter": "python",
   "pygments_lexer": "ipython3",
   "version": "3.13.0"
  }
 },
 "nbformat": 4,
 "nbformat_minor": 2
}
