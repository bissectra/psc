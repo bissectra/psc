{
 "cells": [
  {
   "cell_type": "code",
   "execution_count": 1,
   "metadata": {},
   "outputs": [],
   "source": [
    "import numpy as np\n",
    "import networkx as nx\n",
    "from ipysigma import Sigma\n",
    "import matplotlib.pyplot as plt\n",
    "\n",
    "np.random.seed(0)"
   ]
  },
  {
   "cell_type": "code",
   "execution_count": 2,
   "metadata": {},
   "outputs": [],
   "source": [
    "class Node:\n",
    "    node_count = 0\n",
    "    all_nodes = []\n",
    "    def __init__(self, t):\n",
    "        self.id = Node.node_count\n",
    "        Node.node_count += 1\n",
    "        Node.all_nodes.append(self)\n",
    "        \n",
    "        self.t = t\n",
    "        self.parent = None\n",
    "        self.children = []\n",
    "        self.mutated = False\n",
    "        self.mut_count = 0\n",
    "\n",
    "    def get_label(self):\n",
    "        label = f\"{self.id} ({self.t})\"\n",
    "        if self.mutated:\n",
    "            label += f\" {self.mut_count}\"\n",
    "        return label\n",
    "\n",
    "    def print(self, indent=0):\n",
    "        print(\"  \" * indent + self.get_label())\n",
    "        for child in self.children:\n",
    "            child.print(indent + 1)\n",
    "\n",
    "    def adopt(self, child):\n",
    "        self.children.append(child)\n",
    "        child.parent = self\n",
    "\n",
    "    def mutate(self, rate):\n",
    "        assert self.mutated is False\n",
    "        assert self.parent is not None\n",
    "        self.mutated = True\n",
    "        self.mut_count = np.random.poisson(rate * (self.t - self.parent.t))\n",
    "        for child in self.children:\n",
    "            child.mutate(rate)\n",
    "\n",
    "    def to_networkx(self):\n",
    "        G = nx.DiGraph()\n",
    "        G.add_node(self.id, label=self.get_label())\n",
    "        for child in self.children:\n",
    "            G.add_edge(self.id, child.id)\n",
    "            G = nx.compose(G, child.to_networkx())\n",
    "        return G"
   ]
  },
  {
   "cell_type": "code",
   "execution_count": 3,
   "metadata": {},
   "outputs": [],
   "source": [
    "def get_lineage(node):\n",
    "    path = [node]\n",
    "    while path[-1].parent is not None:\n",
    "        path.append(path[-1].parent)\n",
    "    return reversed(path)\n",
    "\n",
    "def get_common_ancestor(nodes):\n",
    "    lineages = [list(get_lineage(node)) for node in nodes]\n",
    "    common_ancestor = None\n",
    "    for ancestors in zip(*lineages):\n",
    "        if len(set(ancestors)) == 1:\n",
    "            common_ancestor = ancestors[0]\n",
    "        else:\n",
    "            break\n",
    "    return common_ancestor"
   ]
  },
  {
   "cell_type": "code",
   "execution_count": 4,
   "metadata": {},
   "outputs": [],
   "source": [
    "def count_descendants(root, target_nodes, return_dict):\n",
    "    # count number of descendants of root that are in target_nodes\n",
    "    count = 1 if root in target_nodes else 0\n",
    "    for child in root.children:\n",
    "        count += count_descendants(child, target_nodes, return_dict)\n",
    "    return_dict[root.id] = count\n",
    "    return count"
   ]
  },
  {
   "cell_type": "code",
   "execution_count": 5,
   "metadata": {},
   "outputs": [],
   "source": [
    "def coalesce(pop_size, sample_size, initial_t, final_t):\n",
    "    # Simulate a coalescent tree\n",
    "    t = final_t\n",
    "\n",
    "    leaves = [Node(t) for _ in range(sample_size)]\n",
    "    orphans = leaves.copy()\n",
    "\n",
    "    while len(orphans) > 1:\n",
    "        tmean = 2 * pop_size / (sample_size * (sample_size - 1))\n",
    "        t -= np.random.exponential(tmean)\n",
    "\n",
    "        if t < initial_t:\n",
    "            break\n",
    "\n",
    "        # Pick two orphans to coalesce, remove then from the list of orphas\n",
    "        node1 = np.random.choice(orphans)\n",
    "        orphans.remove(node1)\n",
    "\n",
    "        node2 = np.random.choice(orphans)\n",
    "        orphans.remove(node2)\n",
    "\n",
    "        # Create a new node that is the parent of the two orphans\n",
    "        parent = Node(t)\n",
    "        parent.adopt(node1)\n",
    "        parent.adopt(node2)\n",
    "\n",
    "        # Add the parent to the list of orphans\n",
    "        orphans.append(parent)\n",
    "\n",
    "    return orphans, leaves"
   ]
  },
  {
   "cell_type": "code",
   "execution_count": 6,
   "metadata": {},
   "outputs": [],
   "source": [
    "class Individual:\n",
    "    def __init__(self, t, origin, n_pop, n_sample, mut_rate):\n",
    "        self.t = t\n",
    "        self.origin = origin\n",
    "        self.n_pop = n_pop\n",
    "        self.n_sample = n_sample\n",
    "        self.mut_rate = mut_rate\n",
    "\n",
    "        self.sample = [Node(t) for _ in range(n_sample)]\n",
    "        for node in self.sample:\n",
    "            origin.adopt(node)\n",
    "\n",
    "    def evolve(self, dt):\n",
    "        # Coalesce the sample and get the orphans and leaves\n",
    "        orphans, leaves = coalesce(self.n_pop, self.n_sample, self.t, self.t + dt)\n",
    "\n",
    "        # Pick the parents of the orphans\n",
    "        parents = np.random.choice(self.sample, len(orphans), replace=False)\n",
    "\n",
    "        # Adopt the orphans\n",
    "        for parent, orphan in zip(parents, orphans):\n",
    "            parent.adopt(orphan)\n",
    "\n",
    "        for orphan in orphans:\n",
    "            orphan.mutate(self.mut_rate)\n",
    "\n",
    "        self.sample = leaves\n",
    "        self.t += dt\n",
    "\n",
    "    def contaminate(self):\n",
    "        # return a new individual originating from a random node in the sample\n",
    "        origin = np.random.choice(self.sample)\n",
    "        return Individual(self.t, origin, self.n_pop, self.n_sample, self.mut_rate)"
   ]
  },
  {
   "cell_type": "code",
   "execution_count": 7,
   "metadata": {},
   "outputs": [
    {
     "data": {
      "application/vnd.jupyter.widget-view+json": {
       "model_id": "6aee0f5738754ffab089fd4555e23c74",
       "version_major": 2,
       "version_minor": 0
      },
      "text/plain": [
       "Sigma(nx.DiGraph with 145 nodes and 144 edges)"
      ]
     },
     "metadata": {},
     "output_type": "display_data"
    }
   ],
   "source": [
    "n_pop = 1e5\n",
    "n_sample = 10\n",
    "mut_rate = 1e-3\n",
    "T = 1e5\n",
    "\n",
    "t = 0\n",
    "origin = Node(t)\n",
    "a = Individual(t, origin, n_pop, n_sample, mut_rate)\n",
    "a.evolve(T)\n",
    "b = a.contaminate()\n",
    "a.evolve(T)\n",
    "b.evolve(T)\n",
    "c = b.contaminate()\n",
    "a.evolve(T)\n",
    "b.evolve(T)\n",
    "c.evolve(T)\n",
    "\n",
    "\n",
    "G = origin.to_networkx()\n",
    "# set colors for the nodes in the sample\n",
    "for node in a.sample:\n",
    "    G.nodes[node.id][\"color\"] = \"red\"\n",
    "for node in b.sample:\n",
    "    G.nodes[node.id][\"color\"] = \"blue\"\n",
    "for node in c.sample:\n",
    "    G.nodes[node.id][\"color\"] = \"green\"\n",
    "Sigma(G, hide_info_panel=True)"
   ]
  },
  {
   "cell_type": "code",
   "execution_count": 8,
   "metadata": {},
   "outputs": [],
   "source": [
    "def get_mutation_profile(individual):\n",
    "    r = get_common_ancestor(individual.sample)\n",
    "    descendants = {}\n",
    "    count_descendants(r, individual.sample, descendants)\n",
    "    # sort by number of descendants\n",
    "    descendants = {k: v for k, v in sorted(descendants.items(), key=lambda item: item[1], reverse=True)}\n",
    "    # ignore fixed mutations\n",
    "    descendants = {k: v for k, v in descendants.items() if 0 < v < n_sample}\n",
    "\n",
    "    mutation_profile = []\n",
    "    for k, v in descendants.items():\n",
    "        node = Node.all_nodes[k]\n",
    "        repeat = node.mut_count\n",
    "        mutation_profile.extend([v] * repeat)\n",
    "    return mutation_profile\n",
    "\n",
    "def get_number_of_non_fixated_mutations(individual):\n",
    "    r = get_common_ancestor(individual.sample)\n",
    "    descendants = {}\n",
    "    count_descendants(r, individual.sample, descendants)\n",
    "    # sort by number of descendants\n",
    "    descendants = {k: v for k, v in sorted(descendants.items(), key=lambda item: item[1], reverse=True)}\n",
    "    # ignore fixed mutations\n",
    "    descendants = {k: v for k, v in descendants.items() if 0 < v < n_sample}\n",
    "\n",
    "    ans = 0\n",
    "    for k, v in descendants.items():\n",
    "        node = Node.all_nodes[k]\n",
    "        repeat = node.mut_count\n",
    "        ans += repeat\n",
    "    return ans\n"
   ]
  },
  {
   "cell_type": "code",
   "execution_count": 9,
   "metadata": {},
   "outputs": [
    {
     "name": "stdout",
     "output_type": "stream",
     "text": [
      "Number of non-fixated mutations in individual a: 57\n",
      "Number of non-fixated mutations in individual b: 76\n",
      "Number of non-fixated mutations in individual c: 92\n"
     ]
    },
    {
     "data": {
      "image/png": "[encoded data removed]",
      "text/plain": [
       "<Figure size 640x480 with 1 Axes>"
      ]
     },
     "metadata": {},
     "output_type": "display_data"
    }
   ],
   "source": [
    "for individual, label in [(a, \"a\"), (b, \"b\"), (c, \"c\")]:\n",
    "    mutation_profile = get_mutation_profile(individual)\n",
    "    print(f\"Number of non-fixated mutations in individual {label}: {len(mutation_profile)}\")\n",
    "    plt.bar(range(len(mutation_profile)), np.array(mutation_profile) / individual.n_sample, label=label, alpha=0.5)\n",
    "plt.legend()\n",
    "plt.show()"
   ]
  },
  {
   "cell_type": "code",
   "execution_count": 10,
   "metadata": {},
   "outputs": [
    {
     "name": "stdout",
     "output_type": "stream",
     "text": [
      "First time when number of non-fixated mutations > n_pop * mut_rate: 145.72864321608043\n"
     ]
    },
    {
     "data": {
      "image/png": "[encoded data removed]",
      "text/plain": [
       "<Figure size 640x480 with 1 Axes>"
      ]
     },
     "metadata": {},
     "output_type": "display_data"
    }
   ],
   "source": [
    "# study the distribution of non-fixated mutations\n",
    "def simulate(n_pop, n_sample, mut_rate, T, n_simulations):\n",
    "    results = []\n",
    "    for _ in range(n_simulations):\n",
    "        t = 0\n",
    "        origin = Node(t)\n",
    "        individual = Individual(t, origin, n_pop, n_sample, mut_rate)\n",
    "        individual.evolve(T)\n",
    "        results.append(get_number_of_non_fixated_mutations(individual))\n",
    "        # return mean and standard deviation\n",
    "    mean = np.mean(results)\n",
    "    std = np.std(results)\n",
    "    return mean, std\n",
    "\n",
    "n_simulations = 10\n",
    "n_pop = 10000\n",
    "n_sample = 100\n",
    "mut_rate = 1e-3\n",
    "T_max = 1000\n",
    "n_points = 200\n",
    "Ts = np.linspace(0, T_max, n_points)\n",
    "results = [simulate(n_pop, n_sample, mut_rate, T, n_simulations) for T in Ts]\n",
    "means, stds = zip(*results)\n",
    "\n",
    "subtitle = f\"n_pop={n_pop}, n_sample={n_sample}, mut_rate={mut_rate}\"\n",
    "plt.title(f\"Number of non-fixated mutations over time\\n({subtitle})\")\n",
    "plt.errorbar(Ts, means, yerr=stds, fmt='o')\n",
    "plt.xlabel(\"Time\")\n",
    "plt.ylabel(\"Number of non-fixated mutations\")\n",
    "# horizontal line at n_pop * mut_rate\n",
    "plt.axhline(n_pop * mut_rate, color='red', linestyle='--', label=\"n_pop * mut_rate\")\n",
    "\n",
    "# find first time when the number of non-fixated mutations is greater than n_pop * mut_rate\n",
    "for i, (mean, std) in enumerate(results):\n",
    "    if mean > n_pop * mut_rate:\n",
    "        print(f\"First time when number of non-fixated mutations > n_pop * mut_rate: {Ts[i]}\")\n",
    "        break\n",
    "plt.legend()\n",
    "plt.show()"
   ]
  }
 ],
 "metadata": {
  "kernelspec": {
   "display_name": "base",
   "language": "python",
   "name": "python3"
  },
  "language_info": {
   "codemirror_mode": {
    "name": "ipython",
    "version": 3
   },
   "file_extension": ".py",
   "mimetype": "text/x-python",
   "name": "python",
   "nbconvert_exporter": "python",
   "pygments_lexer": "ipython3",
   "version": "3.12.2"
  }
 },
 "nbformat": 4,
 "nbformat_minor": 2
}
