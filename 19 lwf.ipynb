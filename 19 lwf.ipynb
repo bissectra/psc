{
 "cells": [
  {
   "cell_type": "code",
   "execution_count": 1,
   "metadata": {},
   "outputs": [],
   "source": [
    "import numpy as np\n",
    "import networkx as nx\n",
    "from ipysigma import Sigma"
   ]
  },
  {
   "cell_type": "code",
   "execution_count": 2,
   "metadata": {},
   "outputs": [],
   "source": [
    "class Node:\n",
    "    def __init__(self, time, index):\n",
    "        self.time = time\n",
    "        self.index = index\n",
    "        self.parent = None\n",
    "        self.children = []\n",
    "\n",
    "    def adopt(self, child):\n",
    "        self.children.append(child)\n",
    "        child.parent = self"
   ]
  },
  {
   "cell_type": "code",
   "execution_count": 3,
   "metadata": {},
   "outputs": [],
   "source": [
    "class LazyWrightFisher:\n",
    "    def __init__(self, pop_size):\n",
    "        self.pop_size = pop_size\n",
    "        self.nodes = dict()\n",
    "\n",
    "    def node(self, time, index):\n",
    "        if (time, index) not in self.nodes:\n",
    "            self.nodes[(time, index)] = Node(time, index)\n",
    "        return self.nodes[(time, index)]\n",
    "    \n",
    "    def parent(self, time, index):\n",
    "        node = self.node(time, index)\n",
    "        if node.parent is not None:\n",
    "            return node.parent\n",
    "        p = np.random.randint(0, self.pop_size)\n",
    "        parent_node = self.node(time-1, p)\n",
    "        parent_node.adopt(node)\n",
    "        return parent_node\n",
    "    \n",
    "    def branch_length(self, time, indexes):\n",
    "        ans = 0\n",
    "        t = time\n",
    "        nodes = set(self.node(time, index) for index in indexes)\n",
    "\n",
    "        while len(nodes) > 1:\n",
    "            ans += len(nodes)\n",
    "            nodes = set(self.parent(t, node.index) for node in nodes)\n",
    "            t -= 1\n",
    "        return ans\n",
    "    \n",
    "    def graph_index(self, time, index):\n",
    "        return time * self.pop_size + index\n",
    "    \n",
    "    def graph(self):\n",
    "        G = nx.DiGraph()\n",
    "        for node in self.nodes.values():\n",
    "            node_index = self.graph_index(node.time, node.index)\n",
    "            G.add_node(node_index, x=node.time, y=node.index)\n",
    "            for child in node.children:\n",
    "                child_index = self.graph_index(child.time, child.index)\n",
    "                G.add_node(child_index, x=child.time, y=child.index)\n",
    "                G.add_edge(node_index, child_index)\n",
    "        return G"
   ]
  },
  {
   "cell_type": "code",
   "execution_count": 5,
   "metadata": {},
   "outputs": [
    {
     "data": {
      "application/vnd.jupyter.widget-view+json": {
       "model_id": "ea11bb1ac36b49d1a6d76f5837b86ba8",
       "version_major": 2,
       "version_minor": 0
      },
      "text/plain": [
       "Sigma(nx.DiGraph with 299 nodes and 298 edges)"
      ]
     },
     "metadata": {},
     "output_type": "display_data"
    }
   ],
   "source": [
    "# test code\n",
    "\n",
    "lwf = LazyWrightFisher(100)\n",
    "\n",
    "lwf.branch_length(100, [0, 1, 2, 3, 4, 5, 6, 7, 8, 9])\n",
    "\n",
    "G = lwf.graph()\n",
    "\n",
    "sigma = Sigma(G, hide_info_panel=True, hide_search=True)\n",
    "sigma"
   ]
  }
 ],
 "metadata": {
  "kernelspec": {
   "display_name": "base",
   "language": "python",
   "name": "python3"
  },
  "language_info": {
   "codemirror_mode": {
    "name": "ipython",
    "version": 3
   },
   "file_extension": ".py",
   "mimetype": "text/x-python",
   "name": "python",
   "nbconvert_exporter": "python",
   "pygments_lexer": "ipython3",
   "version": "3.12.2"
  }
 },
 "nbformat": 4,
 "nbformat_minor": 2
}
