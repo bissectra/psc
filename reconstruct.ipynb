{
 "cells": [
  {
   "cell_type": "code",
   "execution_count": 51,
   "metadata": {},
   "outputs": [],
   "source": [
    "from pyvis.network import Network"
   ]
  },
  {
   "cell_type": "code",
   "execution_count": 52,
   "metadata": {},
   "outputs": [],
   "source": [
    "# load file \"mutations.txt\", which is a list of sets\n",
    "# each set contains the mutations of a single patient\n",
    "\n",
    "# load the file\n",
    "file = open(\"mutations.txt\", \"r\")\n",
    "lines = file.readlines()\n",
    "file.close()\n",
    "\n",
    "# create a list of sets\n",
    "mutations = []\n",
    "for line in lines:\n",
    "    mutations.append(set(map(int,line.strip(\"{}\\n\").split(\", \"))))\n",
    "    "
   ]
  },
  {
   "cell_type": "code",
   "execution_count": 53,
   "metadata": {},
   "outputs": [
    {
     "data": {
      "text/plain": [
       "[{0, 10, 20, 30, 40, 50, 60, 71, 80, 90},\n",
       " {0, 10, 20, 30, 40, 50, 60, 71, 80, 91},\n",
       " {9, 18, 27, 39, 49, 57, 67, 76, 81, 92},\n",
       " {9, 18, 27, 39, 49, 58, 68, 77, 83, 93},\n",
       " {9, 18, 27, 39, 49, 58, 68, 77, 84, 94},\n",
       " {9, 18, 27, 39, 49, 58, 68, 78, 86, 95},\n",
       " {9, 18, 27, 39, 49, 58, 68, 78, 87, 96},\n",
       " {9, 18, 27, 39, 49, 59, 69, 79, 88, 97},\n",
       " {9, 18, 27, 39, 49, 59, 69, 79, 89, 98},\n",
       " {9, 18, 27, 39, 49, 59, 69, 79, 89, 99}]"
      ]
     },
     "execution_count": 53,
     "metadata": {},
     "output_type": "execute_result"
    }
   ],
   "source": [
    "mutations"
   ]
  },
  {
   "cell_type": "code",
   "execution_count": 54,
   "metadata": {},
   "outputs": [],
   "source": [
    "individues = set(map(tuple,map(sorted,mutations)))\n",
    "\n",
    "while True:\n",
    "    new_individues = set()\n",
    "    for i in individues:\n",
    "        for j in individues:\n",
    "            new_individues.add(tuple(sorted(set(i).intersection(set(j)))))\n",
    "    if new_individues == individues:\n",
    "        break\n",
    "    individues = new_individues"
   ]
  },
  {
   "cell_type": "code",
   "execution_count": 55,
   "metadata": {},
   "outputs": [],
   "source": [
    "net = Network(directed=True, notebook=True, cdn_resources='remote')\n",
    "\n",
    "for i in individues:\n",
    "    net.add_node(str(i), title=str(i))\n",
    "    \n",
    "for i in individues:\n",
    "    for j in individues:\n",
    "        if set(i).issubset(set(j)):\n",
    "            net.add_edge(str(i), str(j))\n",
    "        "
   ]
  },
  {
   "cell_type": "code",
   "execution_count": 56,
   "metadata": {},
   "outputs": [
    {
     "name": "stdout",
     "output_type": "stream",
     "text": [
      "mutations.html\n"
     ]
    },
    {
     "data": {
      "text/html": [
       "\n",
       "        <iframe\n",
       "            width=\"100%\"\n",
       "            height=\"600px\"\n",
       "            src=\"mutations.html\"\n",
       "            frameborder=\"0\"\n",
       "            allowfullscreen\n",
       "            \n",
       "        ></iframe>\n",
       "        "
      ],
      "text/plain": [
       "<IPython.lib.display.IFrame at 0x7dc1c615cf70>"
      ]
     },
     "execution_count": 56,
     "metadata": {},
     "output_type": "execute_result"
    }
   ],
   "source": [
    "net.show(\"mutations.html\")"
   ]
  }
 ],
 "metadata": {
  "kernelspec": {
   "display_name": ".venv",
   "language": "python",
   "name": "python3"
  },
  "language_info": {
   "codemirror_mode": {
    "name": "ipython",
    "version": 3
   },
   "file_extension": ".py",
   "mimetype": "text/x-python",
   "name": "python",
   "nbconvert_exporter": "python",
   "pygments_lexer": "ipython3",
   "version": "3.10.12"
  }
 },
 "nbformat": 4,
 "nbformat_minor": 2
}
